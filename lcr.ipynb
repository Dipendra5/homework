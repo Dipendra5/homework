{
 "cells": [
  {
   "cell_type": "code",
   "execution_count": 1,
   "metadata": {},
   "outputs": [],
   "source": [
    "import numpy as np\n",
    "import pandas as pd\n",
    "import matplotlib.pyplot as plt\n",
    "%matplotlib inline"
   ]
  },
  {
   "cell_type": "code",
   "execution_count": 2,
   "metadata": {},
   "outputs": [],
   "source": [
    "class lcr():\n",
    "    def __init__(self,L,C,R,f):\n",
    "        self.L = L\n",
    "        self.C = C\n",
    "        self.R = R\n",
    "        self.f = f\n",
    "        \n",
    "    def fo(self):\n",
    "        fr = (2*np.pi*np.sqrt(self.L*self.C))**-1\n",
    "        return fr\n",
    "    \n",
    "    def Q(self):\n",
    "        q = np.sqrt(self.L/self.C)/self.R\n",
    "        return q\n",
    "    \n",
    "    def inductivereactance(self):\n",
    "        XL = 2*np.pi*self.f*self.L\n",
    "        return XL\n",
    "    \n",
    "    def capacitivereactance(self):\n",
    "        Xc = 1/2*np.pi*self.f*self.C\n",
    "        return Xc\n",
    "        "
   ]
  },
  {
   "cell_type": "code",
   "execution_count": 3,
   "metadata": {},
   "outputs": [],
   "source": [
    "L = 0.1\n",
    "C = 1e-6\n",
    "R = 10"
   ]
  },
  {
   "cell_type": "code",
   "execution_count": 4,
   "metadata": {},
   "outputs": [
    {
     "name": "stdout",
     "output_type": "stream",
     "text": [
      "resonating frequency: 503.2921210448704\n",
      "Q value: 31.622776601683796\n",
      "capacitor resistance: 0.00015707963267948965\n"
     ]
    }
   ],
   "source": [
    "d = lcr(L,C,R,100)\n",
    "print('resonating frequency:',d.fo())\n",
    "print('Q value:',d.Q())\n",
    "print('capacitor resistance:',d.capacitivereactance())"
   ]
  },
  {
   "cell_type": "code",
   "execution_count": 6,
   "metadata": {},
   "outputs": [],
   "source": [
    "freq = np.arange(10,1500,10)\n",
    "g = lcr(L,C,R,freq)\n",
    "Xl = g.inductivereactance()\n",
    "Xc = g.capacitivereactance()"
   ]
  },
  {
   "cell_type": "code",
   "execution_count": 7,
   "metadata": {},
   "outputs": [
    {
     "data": {
      "image/png": "[encoded data removed]",
      "text/plain": [
       "<Figure size 432x288 with 1 Axes>"
      ]
     },
     "metadata": {
      "needs_background": "light"
     },
     "output_type": "display_data"
    }
   ],
   "source": [
    "plt.plot(freq,Xl,'m.',label='inductive reactance')\n",
    "plt.plot(freq,Xc,'c-.',label='capacitive reactance')\n",
    "plt.xlabel(xlabel=\"frequency(Hz)\",fontsize=14,fontstyle='italic',color=\"black\")\n",
    "plt.ylabel(ylabel=\"reactance(ohm)\",fontsize=14,fontstyle='italic',color=\"black\")\n",
    "plt.title(label=\"LCR circuit\",fontsize=20,fontweight='bold',color=\"red\")\n",
    "plt.legend()\n",
    "plt.tight_layout()\n",
    "plt.show()\n",
    "plt.close()"
   ]
  },
  {
   "cell_type": "code",
   "execution_count": null,
   "metadata": {},
   "outputs": [],
   "source": []
  }
 ],
 "metadata": {
  "kernelspec": {
   "display_name": "Python 3",
   "language": "python",
   "name": "python3"
  },
  "language_info": {
   "codemirror_mode": {
    "name": "ipython",
    "version": 3
   },
   "file_extension": ".py",
   "mimetype": "text/x-python",
   "name": "python",
   "nbconvert_exporter": "python",
   "pygments_lexer": "ipython3",
   "version": "3.7.6"
  }
 },
 "nbformat": 4,
 "nbformat_minor": 4
}
